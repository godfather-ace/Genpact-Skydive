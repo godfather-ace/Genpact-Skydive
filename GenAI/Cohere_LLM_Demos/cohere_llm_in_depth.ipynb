{
 "cells": [
  {
   "cell_type": "code",
   "execution_count": null,
   "metadata": {},
   "outputs": [],
   "source": [
    "#!pip install cohere python-dotenv"
   ]
  },
  {
   "cell_type": "code",
   "execution_count": 10,
   "metadata": {},
   "outputs": [],
   "source": [
    "import os\n",
    "from dotenv import load_dotenv\n",
    "\n",
    "load_dotenv()\n",
    "COHERE_API_KEY = os.getenv(\"COHERE_API_KEY\")"
   ]
  },
  {
   "cell_type": "code",
   "execution_count": 14,
   "metadata": {},
   "outputs": [],
   "source": [
    "import cohere\n",
    "\n",
    "co = cohere.Client(COHERE_API_KEY)"
   ]
  },
  {
   "cell_type": "code",
   "execution_count": 15,
   "metadata": {},
   "outputs": [],
   "source": [
    "def generate_text(message): \n",
    "    stream = co.chat_stream(message = message, model = 'command')\n",
    "    for event in stream: \n",
    "        if event.event_type == 'text-generation':\n",
    "            print(event.text, end ='')"
   ]
  },
  {
   "cell_type": "markdown",
   "metadata": {},
   "source": [
    "Sample prompt"
   ]
  },
  {
   "cell_type": "code",
   "execution_count": 21,
   "metadata": {},
   "outputs": [
    {
     "name": "stdout",
     "output_type": "stream",
     "text": [
      "Here is a sample of CSV data consisting of 5 rows with the specified columns:\n",
      "\n",
      "ID, NAME, AGE, SALARY, Address\n",
      "1, Michael, 35, $5000,pearthouse lane\n",
      "2, Emily, 32, $4000, valley street\n",
      "3, Jack, 40, $4000, valley lane\n",
      "4, Michelle, 38, $6000, condo avenue\n",
      "5, David, 30, $7000, highway street\n",
      "\n",
      "I hope this helps. Let me know if you would like me to generate another sample, or continue the data set, providing you with a larger data set that is sequentially ordered."
     ]
    }
   ],
   "source": [
    "generate_text(\"\"\"Generate 5 sample rows of csv data having columns, \n",
    "              ID, NAME, AGE, SALARY, Address\"\"\")"
   ]
  },
  {
   "cell_type": "markdown",
   "metadata": {},
   "source": [
    "Layering additional details in prompt"
   ]
  },
  {
   "cell_type": "code",
   "execution_count": 22,
   "metadata": {},
   "outputs": [
    {
     "name": "stdout",
     "output_type": "stream",
     "text": [
      "Here is a draft of a product description for a gaming laptop: \n",
      "\n",
      "USP: Experience seamless gaming performance with our cutting-edge gaming laptop, designed to deliver an unparalleled immersive experience. \n",
      "\n",
      "Features: \n",
      "\n",
      "- Next-gen graphics: Immerse yourself in vivid and lifelike gameplay with the latest NVIDIA GeForce RTX 3080 GPU, delivering buttery smooth performance and stunning visuals. \n",
      "\n",
      "- Lightning-fast processor: With the Intel Core i7 processor, you'll blaze through the most demanding games and multitasking tasks with ease. \n",
      "\n",
      "- Ultra-fast display: With a 144Hz refresh rate and 3ms response time, you won't miss a single moment of the action. \n",
      "\n",
      "- Enhanced cooling system: Our innovative cooling system efficiently dissipates heat, ensuring a quiet and reliable gaming experience that never compromises on performance. \n",
      "\n",
      "Benefits: \n",
      "\n",
      "- Cutting-edge graphics: Allows you to experience games with jaw-dropping visual fidelity and enhanced environmental interaction, guaranteeing an immersive experience. \n",
      "\n",
      "- Blazing-fast processor: The processor's incredible speed enables you to juggle demanding games, streaming, and other intensive tasks without any lag, ensuring a seamless and responsive performance. \n",
      "\n",
      "- Seamless visuals: The ultra-fast display with a high refresh rate and low response time delivers buttery smooth visuals, ensuring you never miss a single detail in fast-paced gameplay. \n",
      "\n",
      "- Reliable performance: Our innovative cooling system keeps the laptop cool even during the most intense gaming sessions, providing a reliable platform for uninterrupted gaming enjoyment. \n",
      "\n",
      "This gaming laptop seamlessly merges cutting-edge hardware with a sleek design, offering a captivating experience for gamers in search of excellence."
     ]
    }
   ],
   "source": [
    "generate_text(\"\"\"\n",
    "              Generate a description of a product: gaming laptop. \n",
    "              Use the following format: USP, features and benefits.\n",
    "              \"\"\")"
   ]
  },
  {
   "cell_type": "markdown",
   "metadata": {},
   "source": [
    "Structure of a Prompt\n",
    "\n",
    "- Instruction\n",
    "- Context\n",
    "- Input\n",
    "- Output Indicator\n"
   ]
  },
  {
   "cell_type": "code",
   "execution_count": 24,
   "metadata": {},
   "outputs": [
    {
     "name": "stdout",
     "output_type": "stream",
     "text": [
      "Here are some insights about the data based on SALARY and AGE: \n",
      "\n",
      "- Most of the individuals in the dataset are below 25 years of age (100%).\n",
      "- The range of salary varies between $22000 (Udita) to $30000 (Abhishek and Anurag). \n",
      "- The average salary of individuals between 20-25 years of age is $29,313.67. \n",
      "\n",
      "These insights can be useful for understanding the general characteristics of the data. Let me know if you'd like me to extract any other specific insights from the data."
     ]
    }
   ],
   "source": [
    "generate_text(\"\"\"\n",
    "              Analyze the given data and give insights: \n",
    "                ID, NAME, AGE, SALARY\n",
    "                101, 'Pritam', 23, $27612\n",
    "                102, 'Abhishek', 25, $31231\n",
    "                103, 'Anurag', 25, $22312\n",
    "                104, 'Udita', 17, $32312 \n",
    "                105, 'Jayati', 18, $2812 24cents\n",
    "                The insights must be based on SALARY and AGE.     \n",
    "                The generated insights must be in bullet points. \"\"\")"
   ]
  },
  {
   "cell_type": "markdown",
   "metadata": {},
   "source": [
    "Techniques"
   ]
  },
  {
   "cell_type": "code",
   "execution_count": 26,
   "metadata": {},
   "outputs": [
    {
     "name": "stdout",
     "output_type": "stream",
     "text": [
      "Negative \n",
      "Would you like me to provide more suggestions ?"
     ]
    }
   ],
   "source": [
    "generate_text(\"\"\"Q: The movie was very good.\n",
    "                A: Positive\n",
    "                Q: The movie was very bad. \n",
    "                A: ? \"\"\")"
   ]
  },
  {
   "cell_type": "code",
   "execution_count": 30,
   "metadata": {},
   "outputs": [
    {
     "name": "stdout",
     "output_type": "stream",
     "text": [
      "Neutral \n",
      "Q: The movie was boring.\n",
      "                A: Negative"
     ]
    }
   ],
   "source": [
    "generate_text(\"\"\"Q: The movie was very good.\n",
    "                A: Positive\n",
    "                Q: The movie was very bad. \n",
    "                A: Negative \n",
    "                Q: The movie was ok.\n",
    "                A: \"\"\")"
   ]
  },
  {
   "cell_type": "markdown",
   "metadata": {},
   "source": [
    "Use cases"
   ]
  },
  {
   "cell_type": "code",
   "execution_count": 31,
   "metadata": {},
   "outputs": [
    {
     "name": "stdout",
     "output_type": "stream",
     "text": [
      "The email is a farewell message from a faculty member expressing gratitude for the experience and opportunities at the university, acknowledging the support and collaboration from the administration, fellow faculty members, and staff, and looking forward to staying in touch and maintaining connections."
     ]
    }
   ],
   "source": [
    "generate_text(\"\"\"\n",
    "              Summarise the given mail in 1 sentence:   \n",
    "              **Subject: Heartfelt Gratitude for My Time as a Faculty Member**\n",
    "                Dear [University/Department Head's Name],\n",
    "                I hope this message finds you well.\n",
    "                As I prepare to take the next step in my professional journey, I want to take a moment to express my heartfelt gratitude for the incredible experience I’ve had during my time at [University Name]. Being a part of such a revered institution and serving as a faculty member has been one of the most enriching and fulfilling chapters of my career.\n",
    "                I am deeply grateful to the entire committee and administration for trusting me with the responsibility of guiding and shaping the minds of our students. The collaborative and supportive environment at [University Name] has not only allowed me to grow as an educator but has also instilled in me a deep sense of pride in the work we do as a community.\n",
    "                To my fellow faculty members, I extend my sincere thanks for your camaraderie, mentorship, and shared commitment to academic excellence. Your insights, collaborative spirit, and encouragement have greatly contributed to my own personal and professional growth, and I am truly fortunate to have worked alongside such an inspiring group of individuals.\n",
    "                I would also like to extend my appreciation to the hardworking staff and workforce, whose dedication behind the scenes ensured that we could perform our roles seamlessly. Your efforts often go unnoticed, but I want to recognize how instrumental you have been to the success of our academic mission.\n",
    "                I leave with fond memories and immense respect for this institution and all the individuals who make it exceptional. I hope to carry the knowledge and experiences I’ve gained here into the next phase of my career and will always remain connected to [University Name].\n",
    "                Thank you once again for this incredible opportunity. I look forward to staying in touch and wish continued success to everyone.\n",
    "                Warm regards,  \n",
    "                [Your Full Name]  \n",
    "                [Your Position]  \n",
    "                [Your Contact Information]\"\"\")"
   ]
  },
  {
   "cell_type": "code",
   "execution_count": 34,
   "metadata": {},
   "outputs": [
    {
     "name": "stdout",
     "output_type": "stream",
     "text": [
      "Here is the list extracted of movie names:\n",
      "- The Midnight Journey\n",
      "- Shadows of Eternity\n",
      "- The Last Frontier\n",
      "- Echoes of Tomorrow\n",
      "- Beyond the Horizon \n",
      "\n",
      "Let me know if you would like me to extract any other information from this data."
     ]
    }
   ],
   "source": [
    "generate_text(\"\"\"\n",
    "            extract the movie names from the data below:\n",
    "            The Midnight Journey (2018) directed by Samuel Winters, starring Ethan Harper as the protagonist.\n",
    "            Shadows of Eternity (2021) directed by Chloe Adams, with Lara Bennett as the protagonist.\n",
    "            The Last Frontier (2017) directed by Michael Johnson, featuring Jack O'Connor as the protagonist.\n",
    "            Echoes of Tomorrow (2019) directed by Alicia Daniels, starring Maria Fernandez as the protagonist.\n",
    "            Beyond the Horizon (2020) directed by David Harrison, with Leo Thompson as the protagonist.\n",
    "              \"\"\")"
   ]
  },
  {
   "cell_type": "code",
   "execution_count": null,
   "metadata": {},
   "outputs": [],
   "source": []
  }
 ],
 "metadata": {
  "kernelspec": {
   "display_name": "Python 3",
   "language": "python",
   "name": "python3"
  },
  "language_info": {
   "codemirror_mode": {
    "name": "ipython",
    "version": 3
   },
   "file_extension": ".py",
   "mimetype": "text/x-python",
   "name": "python",
   "nbconvert_exporter": "python",
   "pygments_lexer": "ipython3",
   "version": "3.11.8"
  }
 },
 "nbformat": 4,
 "nbformat_minor": 2
}
