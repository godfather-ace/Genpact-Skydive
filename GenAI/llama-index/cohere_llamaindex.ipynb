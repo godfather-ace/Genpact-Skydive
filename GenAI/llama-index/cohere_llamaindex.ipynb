{
 "cells": [
  {
   "cell_type": "markdown",
   "metadata": {},
   "source": [
    "### Library Installation"
   ]
  },
  {
   "cell_type": "code",
   "execution_count": null,
   "metadata": {},
   "outputs": [],
   "source": [
    "!pip install llama-index llama-index-llms-openai llama-index-llms-cohere"
   ]
  },
  {
   "cell_type": "code",
   "execution_count": 2,
   "metadata": {},
   "outputs": [],
   "source": [
    "from llama_index.llms.cohere import Cohere\n",
    "\n",
    "api_key = \"s337mn6VVeVBUkKkhZ0MgitQctDjBDeGhkKeooin\"\n",
    "resp = Cohere(api_key=api_key, model = 'command').complete(\"Paul Graham is \")\n"
   ]
  },
  {
   "cell_type": "code",
   "execution_count": 5,
   "metadata": {},
   "outputs": [
    {
     "data": {
      "text/plain": [
       "CompletionResponse(text='An influential philosopher, programmer, and entrepreneur, Paul Graham has made significant contributions to the world of computer science and business. He is best known for his work in the field of computer algorithms, his founding of the startup incubator Y Combinator, and his popularization of the concepts of hacking and Lisp.\\n\\nGraham is credited with developing the widely-used Graham scan algorithm, a method for finding the convex hull of a collection of points in space. This algorithm has applications in computer graphics, computer vision, and other fields. \\n\\nIn terms of his entrepreneurial achievements, Graham founded Y Combinator in 2005, which has since funded over 3,000 startups, including Dropbox, Airbnb, and Reddit. Graham is also the author of numerous essays on computer technology and culture, which have had a significant impact on the way many people think about software, business, and society. \\n\\nHis work and ideas have been influential in the programming world, and he is widely respected for his contributions to both computer science and the business world. ', additional_kwargs={}, raw={'id': '1aec4ba3-536a-4b39-9375-d56a3c0dc1f1', 'prompt': 'Paul Graham is', 'generations': [SingleGeneration(id='e8bc0d3e-6d40-4434-9162-601e3a734d45', text='An influential philosopher, programmer, and entrepreneur, Paul Graham has made significant contributions to the world of computer science and business. He is best known for his work in the field of computer algorithms, his founding of the startup incubator Y Combinator, and his popularization of the concepts of hacking and Lisp.\\n\\nGraham is credited with developing the widely-used Graham scan algorithm, a method for finding the convex hull of a collection of points in space. This algorithm has applications in computer graphics, computer vision, and other fields. \\n\\nIn terms of his entrepreneurial achievements, Graham founded Y Combinator in 2005, which has since funded over 3,000 startups, including Dropbox, Airbnb, and Reddit. Graham is also the author of numerous essays on computer technology and culture, which have had a significant impact on the way many people think about software, business, and society. \\n\\nHis work and ideas have been influential in the programming world, and he is widely respected for his contributions to both computer science and the business world. ', index=None, likelihood=None, token_likelihoods=None, finish_reason='COMPLETE')], 'meta': ApiMeta(api_version=ApiMetaApiVersion(version='1', is_deprecated=None, is_experimental=None), billed_units=ApiMetaBilledUnits(input_tokens=3.0, output_tokens=210.0, search_units=None, classifications=None), tokens=None, warnings=['Your text contains a trailing whitespace, which has been trimmed to ensure high quality generations.'])}, logprobs=None, delta=None)"
      ]
     },
     "execution_count": 5,
     "metadata": {},
     "output_type": "execute_result"
    }
   ],
   "source": [
    "resp"
   ]
  },
  {
   "cell_type": "code",
   "execution_count": 4,
   "metadata": {},
   "outputs": [],
   "source": [
    "from llama_index.core.llms import ChatMessage\n",
    "from llama_index.llms.cohere import Cohere\n",
    "\n",
    "messages = [\n",
    "    ChatMessage(role=\"user\", content=\"hello there\"),\n",
    "    ChatMessage(\n",
    "        role=\"assistant\", content=\"Arrrr, matey! How can I help ye today?\"\n",
    "    ),\n",
    "    ChatMessage(role=\"user\", content=\"What is your name\"),\n",
    "]\n",
    "\n",
    "resp = Cohere(api_key=api_key, model = 'command').chat(\n",
    "    messages )"
   ]
  },
  {
   "cell_type": "code",
   "execution_count": 5,
   "metadata": {},
   "outputs": [
    {
     "name": "stdout",
     "output_type": "stream",
     "text": [
      "assistant: My name is Coral! I'm a large language model built by the company Cohere, and I'm trained to help users by providing thorough responses.\n"
     ]
    }
   ],
   "source": [
    "print(resp)"
   ]
  },
  {
   "cell_type": "code",
   "execution_count": null,
   "metadata": {},
   "outputs": [],
   "source": []
  }
 ],
 "metadata": {
  "kernelspec": {
   "display_name": "Python 3",
   "language": "python",
   "name": "python3"
  },
  "language_info": {
   "codemirror_mode": {
    "name": "ipython",
    "version": 3
   },
   "file_extension": ".py",
   "mimetype": "text/x-python",
   "name": "python",
   "nbconvert_exporter": "python",
   "pygments_lexer": "ipython3",
   "version": "3.11.8"
  }
 },
 "nbformat": 4,
 "nbformat_minor": 2
}
