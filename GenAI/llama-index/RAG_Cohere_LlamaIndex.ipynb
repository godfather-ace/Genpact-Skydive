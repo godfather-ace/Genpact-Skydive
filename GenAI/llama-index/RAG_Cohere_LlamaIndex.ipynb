{
 "cells": [
  {
   "cell_type": "markdown",
   "metadata": {},
   "source": [
    "### Library Installation"
   ]
  },
  {
   "cell_type": "markdown",
   "metadata": {},
   "source": [
    "- llama-index: This is the core package for Llama Index, providing the framework for building LLM applications.\n",
    "- llama-index-core: This is a subpackage of Llama Index, containing essential components like the VectorStoreIndex and SimpleDirectoryReader.\n",
    "- llama-index-embeddings-huggingface: This package integrates Hugging Face embeddings with Llama Index, allowing you to use pretrained models for encoding text.\n",
    "- llama-index-llms-cohere: This package integrates the Cohere LLM with Llama Index, enabling you to use Cohere for text generation and other tasks."
   ]
  },
  {
   "cell_type": "code",
   "execution_count": null,
   "metadata": {},
   "outputs": [],
   "source": [
    "#!pip install llama-index llama-index-core llama-index-embeddings-huggingface llama-index-llms-cohere"
   ]
  },
  {
   "cell_type": "markdown",
   "metadata": {},
   "source": [
    "### Library Imports"
   ]
  },
  {
   "cell_type": "markdown",
   "metadata": {},
   "source": [
    "- from llama_index.core import (Settings, VectorStoreIndex, SimpleDirectoryReader)\n",
    ": Imports classes for creating a vector store index, reading documents from a directory, and configuring the index's settings.\n",
    "- from llama_index.core.node_parser import SentenceSplitter: Imports a class for splitting text into sentences.\n",
    "- from llama_index.embeddings.huggingface import HuggingFaceEmbedding: Imports a class for using Hugging Face embeddings to encode text.\n",
    "- from llama_index.llms.cohere import Cohere: Imports a class for using Cohere as the language model.\n",
    "- from dotenv import load_dotenv: Imports a module for loading environment variables from a .env file.\n",
    "- import os: Imports the built-in os module for interacting with the operating system."
   ]
  },
  {
   "cell_type": "code",
   "execution_count": 1,
   "metadata": {},
   "outputs": [],
   "source": [
    "from llama_index.core import (\n",
    "    Settings,\n",
    "    VectorStoreIndex, \n",
    "    SimpleDirectoryReader, \n",
    ")\n",
    "from llama_index.core.node_parser import SentenceSplitter\n",
    "from llama_index.embeddings.huggingface import HuggingFaceEmbedding\n",
    "from llama_index.llms.cohere import Cohere\n",
    "from dotenv import load_dotenv\n",
    "import os"
   ]
  },
  {
   "cell_type": "markdown",
   "metadata": {},
   "source": [
    "### LlamaIndex Settings"
   ]
  },
  {
   "cell_type": "markdown",
   "metadata": {},
   "source": [
    "- load_dotenv()\n",
    ": Loads environment variables from the .env file, if it exists. This is typically used to store sensitive information like API keys.\n",
    "- Settings\n",
    ": This class is used to configure the settings of the vector store index. You can customize parameters like the maximum number of documents, the embedding model used, and the similarity metric.\n",
    "- VectorStoreIndex: This class is used to create a vector store index. It stores documents as vectors and allows for efficient retrieval of relevant documents based on similarity.\n",
    "- SimpleDirectoryReader: This class is used to read documents from a directory and create a list of Document objects.\n",
    "- SentenceSplitter: This class is used to split text into sentences. It can be useful for breaking down long documents into smaller units for indexing.\n",
    "- HuggingFaceEmbedding: This class is used to encode text using Hugging Face embeddings. You can specify the embedding model you want to use (e.g., sentence-transformers/all-MiniLM-L6-v2).\n",
    "- Cohere: This class is used to interact with the Cohere language model. You can use it to generate text, summarize text, or answer questions."
   ]
  },
  {
   "cell_type": "code",
   "execution_count": null,
   "metadata": {},
   "outputs": [],
   "source": [
    "load_dotenv()\n",
    "COHERE_API_KEY = os.getenv(\"COHERE_API_KEY\")\n",
    "\n",
    "embed_model = HuggingFaceEmbedding(model_name=\"BAAI/bge-small-en-v1.5\")\n",
    "Settings.text_splitter = SentenceSplitter(chunk_size=1024)\n",
    "Settings.llm = Cohere(model = 'command-r', api_key = COHERE_API_KEY)\n",
    "Settings.embed_model = embed_model\n",
    "#Settings.chunk_size = 512\n",
    "#Settings.chunk_overlap = 20"
   ]
  },
  {
   "cell_type": "markdown",
   "metadata": {},
   "source": [
    "### Loading Files"
   ]
  },
  {
   "cell_type": "code",
   "execution_count": 3,
   "metadata": {},
   "outputs": [],
   "source": [
    "reader = SimpleDirectoryReader(input_dir=\"sample_data_files\")\n",
    "documents = reader.load_data()"
   ]
  },
  {
   "cell_type": "markdown",
   "metadata": {},
   "source": [
    "### VectorStore Creation for Indexing"
   ]
  },
  {
   "cell_type": "code",
   "execution_count": 4,
   "metadata": {},
   "outputs": [],
   "source": [
    "index = VectorStoreIndex.from_documents(documents)"
   ]
  },
  {
   "cell_type": "markdown",
   "metadata": {},
   "source": [
    "### Querying and Generating Response"
   ]
  },
  {
   "cell_type": "code",
   "execution_count": 5,
   "metadata": {},
   "outputs": [
    {
     "data": {
      "text/plain": [
       "Response(response='The data appears to be a script from the TV show Game of Thrones, specifically the episode titled \"The Dragon and the Wolf\". The data primarily focuses on the dialogue between various characters, including Bronn, Jaime Lannister, Tyrion Lannister, Cersei, Jon Snow and Dany. There are also descriptions of the scenes the characters are in, which include preparations for an attack on King\\'s Landing.', source_nodes=[NodeWithScore(node=TextNode(id_='b27363ae-30ad-4560-a310-a16fc4e40a1e', embedding=None, metadata={'file_path': 'c:\\\\Users\\\\sachi\\\\OneDrive\\\\Desktop\\\\AIM\\\\Training\\\\Genpact Skydive 2024 Aug\\\\GenAI\\\\llama-index\\\\sample_data_files\\\\GOT_The_Dragon_and_The_Wolf.txt', 'file_name': 'GOT_The_Dragon_and_The_Wolf.txt', 'file_type': 'text/plain', 'file_size': 75757, 'creation_date': '2024-09-23', 'last_modified_date': '2024-09-23'}, excluded_embed_metadata_keys=['file_name', 'file_type', 'file_size', 'creation_date', 'last_modified_date', 'last_accessed_date'], excluded_llm_metadata_keys=['file_name', 'file_type', 'file_size', 'creation_date', 'last_modified_date', 'last_accessed_date'], relationships={<NodeRelationship.SOURCE: '1'>: RelatedNodeInfo(node_id='0a9365ae-093a-4212-8bad-532af58c98b3', node_type=<ObjectType.DOCUMENT: '4'>, metadata={'file_path': 'c:\\\\Users\\\\sachi\\\\OneDrive\\\\Desktop\\\\AIM\\\\Training\\\\Genpact Skydive 2024 Aug\\\\GenAI\\\\llama-index\\\\sample_data_files\\\\GOT_The_Dragon_and_The_Wolf.txt', 'file_name': 'GOT_The_Dragon_and_The_Wolf.txt', 'file_type': 'text/plain', 'file_size': 75757, 'creation_date': '2024-09-23', 'last_modified_date': '2024-09-23'}, hash='1c3d5096cde6bcf8a4fa66781563760a5c95122e9082a72ec3b794c4402ec774'), <NodeRelationship.NEXT: '3'>: RelatedNodeInfo(node_id='65b05338-43f2-4d34-8e6e-0646e4399cfb', node_type=<ObjectType.TEXT: '1'>, metadata={}, hash='b6da9398ec563d9f208959c73ab30c62269238519fc84f83d11c045be02d3791')}, text='GAME OF THRONES \"The Dragon and the Wolf\"\\r\\nWritten by David Benioff & D. B. Weiss\\r\\nBased on A Song of Ice and Fire by George R.R. Martin\\r\\nEXT. KING\\'S LANDING - DAY\\r\\nThe UNSULLIED stand in formation, immobile. Their phalanxes\\r\\nare eight men deep and thirty men long, and their line\\r\\nstretches nearly a mile.\\r\\nGREY WORM stands at the head of the central phalanx. He looks\\r\\nahead, to the walls of King’s Landing.\\r\\nEXT. KING’S LANDING BATTLEMENTS - DAY\\r\\nWe see the Unsullied from a high, distant perspective:\\r\\nBRONN’s perspective, specifically, as he inspects the\\r\\nLANNISTER FORCES on the city walls.\\r\\nThis is what a true Lannister deployment looks like: a line\\r\\nof soldiers stretching into the distance as far as the eye\\r\\ncan see, prepared for an attack from any point.\\r\\nBronn looks over the battlement to see many more men at the\\r\\nready in the courtyard below, where many barrels are also\\r\\nbeing stacked.\\r\\nA LANNISTER GENERAL on the battlements supervises the barrel\\r\\nstacking. Bronn questions the man:\\r\\nBRONN\\r\\nOil?\\r\\nLANNISTER GENERAL\\r\\nPitch, my lord.\\r\\nBronn looks at the barrels in the courtyard.\\r\\nBRONN\\r\\nHow many barrels?\\r\\nLANNISTER GENERAL\\r\\nFive hundred, my lord.\\r\\nBronn looks out at the Unsullied.\\r\\nBRONN\\r\\nGet five hundred more.\\r\\nLANNISTER GENERAL\\r\\nYes, my lord.\\r\\nThe general leaves to see to his order. Bronn continues down\\r\\nthe battlements, to JAIME LANNISTER.\\r\\n(CONTINUED)\\r\\nGAME OF THRONES \"The Dragon and the Wolf\" 1.\\r\\nBRONN\\r\\nI still enjoy it when they call me\\r\\n“my lord.”\\r\\nJAIME\\r\\nThe thrill will fade.\\r\\nBronn looks out at the Unsullied.\\r\\nBRONN\\r\\nIf we live that long.\\r\\nThey both look out at the Unsullied for a moment.\\r\\nBRONN\\r\\nMen without cocks. Wouldn’t find me\\r\\nfighting in an army if I had no\\r\\ncock. What’s left to fight for?\\r\\nJAIME\\r\\nGold?\\r\\nBRONN\\r\\nI spent my life around soldiers.\\r\\nWhat do you think they spend that\\r\\ngold on?\\r\\nPoint taken.\\r\\nJAIME\\r\\nFamily?\\r\\nBRONN\\r\\nNot without a cock, you don’t.\\r\\nHmm.\\r\\nJAIME\\r\\nMaybe it really is all cocks in the\\r\\nend.\\r\\nBRONN\\r\\n(re: Unsullied)\\r\\nAnd yet, your brother has chosen to\\r\\nside with the cockless.\\r\\nJAIME\\r\\nYes, he’s always been a champion of\\r\\nthe downtrodden.\\r\\nA trumpet sounds from a tower above. Jaime and Bronn return\\r\\ntheir attention to the distance.\\r\\nCONTINUED:\\r\\nGAME OF THRONES \"The Dragon and the Wolf\" 2.\\r\\nEXT. KING\\'S LANDING - DAY\\r\\nThe DOTHRAKI HORDE breaks the horizon and heads toward the\\r\\ncity, 10,000 screamers strong.\\r\\nThe Dothraki pour through the gaps in the Unsullied\\r\\nphalanxes; their passage does not cause a single Unsullied to\\r\\nflinch.\\r\\nEXT. KING’S LANDING BATTLEMENTS - DAY\\r\\nThe Dothraki present their customary show of strength before\\r\\nthe city walls, a cyclone of horse and steel and screaming\\r\\nwarriors, swirling before the immobile Unsullied.\\r\\nAnd then, without warning or apparent signal, they stop in\\r\\nfront of the Unsullied and fall silent, in ready position,\\r\\neerily motionless, staring up at the nervous defenders of the\\r\\ncity.\\r\\nBRONN\\r\\nI think we’re about to be the\\r\\ndowntrodden.\\r\\nEXT. DANY\\'S FLAGSHIP - DAY\\r\\nTYRION LANNISTER stands on the starboard deck of Dany’s\\r\\nflagship, standing next to VARYS and THEON GREYJOY.\\r\\nHe steps away from them, heading toward the bow, where JON\\r\\nSNOW stands with DAVOS SEAWORTH.\\r\\nTyrion joins them. The three men look at King’s Landing, in\\r\\nthe distance.\\r\\nNearby JORAH MORMONT and MISSANDEI look across the water, and\\r\\nthe few escort ships following behind their flagship.\\r\\nDany herself is notably absent.\\r\\nJON\\r\\nHow many people live here?\\r\\nTYRION\\r\\nA million, give or take.\\r\\nJon tries to get his head around this notion.', mimetype='text/plain', start_char_idx=0, end_char_idx=3531, text_template='{metadata_str}\\n\\n{content}', metadata_template='{key}: {value}', metadata_seperator='\\n'), score=0.5162792968383302), NodeWithScore(node=TextNode(id_='9b55de23-65f3-47df-95ff-39b7a0e6b1f2', embedding=None, metadata={'file_path': 'c:\\\\Users\\\\sachi\\\\OneDrive\\\\Desktop\\\\AIM\\\\Training\\\\Genpact Skydive 2024 Aug\\\\GenAI\\\\llama-index\\\\sample_data_files\\\\GOT_The_Dragon_and_The_Wolf.txt', 'file_name': 'GOT_The_Dragon_and_The_Wolf.txt', 'file_type': 'text/plain', 'file_size': 75757, 'creation_date': '2024-09-23', 'last_modified_date': '2024-09-23'}, excluded_embed_metadata_keys=['file_name', 'file_type', 'file_size', 'creation_date', 'last_modified_date', 'last_accessed_date'], excluded_llm_metadata_keys=['file_name', 'file_type', 'file_size', 'creation_date', 'last_modified_date', 'last_accessed_date'], relationships={<NodeRelationship.SOURCE: '1'>: RelatedNodeInfo(node_id='0a9365ae-093a-4212-8bad-532af58c98b3', node_type=<ObjectType.DOCUMENT: '4'>, metadata={'file_path': 'c:\\\\Users\\\\sachi\\\\OneDrive\\\\Desktop\\\\AIM\\\\Training\\\\Genpact Skydive 2024 Aug\\\\GenAI\\\\llama-index\\\\sample_data_files\\\\GOT_The_Dragon_and_The_Wolf.txt', 'file_name': 'GOT_The_Dragon_and_The_Wolf.txt', 'file_type': 'text/plain', 'file_size': 75757, 'creation_date': '2024-09-23', 'last_modified_date': '2024-09-23'}, hash='1c3d5096cde6bcf8a4fa66781563760a5c95122e9082a72ec3b794c4402ec774'), <NodeRelationship.PREVIOUS: '2'>: RelatedNodeInfo(node_id='58a92e22-f194-4fc1-ac48-b9908dcd9d77', node_type=<ObjectType.TEXT: '1'>, metadata={'file_path': 'c:\\\\Users\\\\sachi\\\\OneDrive\\\\Desktop\\\\AIM\\\\Training\\\\Genpact Skydive 2024 Aug\\\\GenAI\\\\llama-index\\\\sample_data_files\\\\GOT_The_Dragon_and_The_Wolf.txt', 'file_name': 'GOT_The_Dragon_and_The_Wolf.txt', 'file_type': 'text/plain', 'file_size': 75757, 'creation_date': '2024-09-23', 'last_modified_date': '2024-09-23'}, hash='275bf86de2766aa803d9ff75dd3f72908e01171b0109ee052c37d81813fed2c9'), <NodeRelationship.NEXT: '3'>: RelatedNodeInfo(node_id='2b222256-f605-4b58-a32b-62bbfece1351', node_type=<ObjectType.TEXT: '1'>, metadata={}, hash='5de763360fa4923b5912e0d412dbc10328092b5263a79bb1fed8bdd27b776435')}, text='You\\r\\nknow I did. You know it in your\\r\\nheart, if there’s anything left of\\r\\nit.\\r\\nShe does know. She drinks.\\r\\nCERSEI\\r\\nIt doesn’t matter. Your love\\r\\ndoesn’t matter. Your feelings don’t\\r\\nmatter. I don’t care why you did\\r\\nwhat you did. I only care what it\\r\\ncost us. It cost us our future.\\r\\nTYRION\\r\\nIf there’s no future, then why are\\r\\nwe here? Why did you allow me to\\r\\ncome?\\r\\nCERSEI\\r\\nNot to help my enemies collaborate\\r\\nin my destruction.\\r\\nTYRION\\r\\nYes, no not what you hoped for. But\\r\\nyou must have hoped for something.\\r\\nHe is more right than he knows. She deflects.\\r\\nCERSEI\\r\\nWhat did you hope for? To make Jon\\r\\nSnow submit to your Queen?\\r\\nTYRION\\r\\nNot like this.\\r\\nCONTINUED: (3)\\r\\n(CONTINUED)\\r\\nGAME OF THRONES \"The Dragon and the Wolf\" 27.\\r\\nCERSEI\\r\\nBut eventually. You want everyone\\r\\nto bend the knee to her.\\r\\nTYRION\\r\\nYes.\\r\\nCERSEI\\r\\nWhy?\\r\\nTYRION\\r\\nBecause I think she will make the\\r\\nworld a better place.\\r\\nCERSEI\\r\\nYou said she’d destroy King’s\\r\\nLanding.\\r\\nShe makes a fair point.\\r\\nTYRION\\r\\nShe knows herself. She chose an\\r\\nadvisor who would check her worst\\r\\nimpulses, instead of feeding them.\\r\\nThat’s the difference between you.\\r\\nCERSEI\\r\\nI don’t care about checking my\\r\\nworst impulses. I don’t care about\\r\\nmaking the world a better place. Hang the world.\\r\\nCersei folds her hands across her stomach.\\r\\nCERSEI\\r\\nThat thing you dragged here, I know\\r\\nwhat it is and I know what it\\r\\nmeans. And when it came at me, I\\r\\ndidn’t think about the world. Not\\r\\nat all. As soon as it opened its\\r\\nmouth, the world disappeared for\\r\\nme, right down its black throat.\\r\\nTyrion notices the barely perceptible movement of Cersei’s\\r\\nbottom hand over her belly.\\r\\nCERSEI\\r\\nAll I could think about was keeping\\r\\nthose gnashing teeth away from\\r\\nthose who mean the most to me. Away\\r\\nfrom my family.\\r\\nCONTINUED: (4)\\r\\n(CONTINUED)\\r\\nGAME OF THRONES \"The Dragon and the Wolf\" 28.\\r\\nTyrion sees what he sees, and knows what it means. He can\\r\\nhardly believe it, but he knows it to be true.\\r\\nCERSEI\\r\\nMaybe Euron Greyjoy had the right\\r\\nidea: get on a boat, take those who\\r\\nmatter--\\r\\nTYRION\\r\\nYou’re pregnant.\\r\\nShe stays silent for too long, long enough to tell him that\\r\\nhe’s right.\\r\\nAnd once she knows he knows, she can think of nothing else to\\r\\nsay.\\r\\nEXT. DRAGONPIT - MAIN FLOOR - DAY\\r\\nJon is pondering, looking at the detritus on the ground, when\\r\\nDany approaches. He has a small dragon jawbone in his hands.\\r\\nJON\\r\\nNo one is less happy about this\\r\\nthan I am.\\r\\nDANY\\r\\nI know. I respect what you did. I\\r\\nwish you hadn’t done it, but I\\r\\nrespect it.\\r\\nDany steps closer to Jon and takes the small jawbone from his\\r\\nhands. Their fingers touch briefly.\\r\\nDANY\\r\\nThis place was the beginning of the\\r\\nend for my family. (in Valyrian)\\r\\nZaldrizes buzdari iksos daor. (for Jon’s benefit)\\r\\nA dragon is not a slave. They were\\r\\nterrifying, extraordinary, they\\r\\nfilled people with wonder and awe. And we locked them in here. They\\r\\nwasted away. They grew small. And\\r\\nwe grew small as well. We weren’t\\r\\nextraordinary without them. We were\\r\\njust like everyone else.\\r\\nDany holds the jawbone out for Jon. He takes it and their\\r\\nfingers touch again.\\r\\nCONTINUED: (5)\\r\\n(CONTINUED)\\r\\nGAME OF THRONES \"The Dragon and the Wolf\" 29.\\r\\nJON\\r\\nYou’re not like everyone else. And\\r\\nyour family hasn’t seen its end.\\r\\nYou’re still here.\\r\\nDANY\\r\\nI can’t have children.\\r\\nJON\\r\\nWho told you that?\\r\\nDANY\\r\\nThe witch who murdered my husband.', mimetype='text/plain', start_char_idx=33538, end_char_idx=36877, text_template='{metadata_str}\\n\\n{content}', metadata_template='{key}: {value}', metadata_seperator='\\n'), score=0.4948900557962071)], metadata={'b27363ae-30ad-4560-a310-a16fc4e40a1e': {'file_path': 'c:\\\\Users\\\\sachi\\\\OneDrive\\\\Desktop\\\\AIM\\\\Training\\\\Genpact Skydive 2024 Aug\\\\GenAI\\\\llama-index\\\\sample_data_files\\\\GOT_The_Dragon_and_The_Wolf.txt', 'file_name': 'GOT_The_Dragon_and_The_Wolf.txt', 'file_type': 'text/plain', 'file_size': 75757, 'creation_date': '2024-09-23', 'last_modified_date': '2024-09-23'}, '9b55de23-65f3-47df-95ff-39b7a0e6b1f2': {'file_path': 'c:\\\\Users\\\\sachi\\\\OneDrive\\\\Desktop\\\\AIM\\\\Training\\\\Genpact Skydive 2024 Aug\\\\GenAI\\\\llama-index\\\\sample_data_files\\\\GOT_The_Dragon_and_The_Wolf.txt', 'file_name': 'GOT_The_Dragon_and_The_Wolf.txt', 'file_type': 'text/plain', 'file_size': 75757, 'creation_date': '2024-09-23', 'last_modified_date': '2024-09-23'}})"
      ]
     },
     "execution_count": 5,
     "metadata": {},
     "output_type": "execute_result"
    }
   ],
   "source": [
    "query_engine = index.as_query_engine()\n",
    "response = query_engine.query(\"What is the data about?\")\n",
    "response"
   ]
  },
  {
   "cell_type": "code",
   "execution_count": null,
   "metadata": {},
   "outputs": [],
   "source": []
  }
 ],
 "metadata": {
  "kernelspec": {
   "display_name": "Python 3",
   "language": "python",
   "name": "python3"
  },
  "language_info": {
   "codemirror_mode": {
    "name": "ipython",
    "version": 3
   },
   "file_extension": ".py",
   "mimetype": "text/x-python",
   "name": "python",
   "nbconvert_exporter": "python",
   "pygments_lexer": "ipython3",
   "version": "3.11.8"
  }
 },
 "nbformat": 4,
 "nbformat_minor": 2
}
