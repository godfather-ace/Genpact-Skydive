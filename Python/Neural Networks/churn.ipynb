{
 "cells": [
  {
   "cell_type": "code",
   "execution_count": 1,
   "metadata": {},
   "outputs": [
    {
     "name": "stderr",
     "output_type": "stream",
     "text": [
      "Using TensorFlow backend.\n"
     ]
    }
   ],
   "source": [
    "import numpy as np\n",
    "import pandas as pd\n",
    "import matplotlib.pyplot as plt\n",
    "from matplotlib import pyplot\n",
    "from sklearn.model_selection import train_test_split\n",
    "from sklearn.preprocessing import StandardScaler\n",
    "from sklearn.metrics import confusion_matrix\n",
    "import math\n",
    "\n",
    "import keras\n",
    "from keras import optimizers\n",
    "from keras.models import Sequential\n",
    "from keras.layers import Dense\n",
    "\n",
    "import warnings\n",
    "warnings.filterwarnings(\"ignore\")\n",
    "%matplotlib inline"
   ]
  },
  {
   "cell_type": "code",
   "execution_count": 2,
   "metadata": {},
   "outputs": [],
   "source": [
    "df = pd.read_csv(\"Churn_Modelling.csv\")"
   ]
  },
  {
   "cell_type": "markdown",
   "metadata": {},
   "source": [
    "# Pre-processing"
   ]
  },
  {
   "cell_type": "code",
   "execution_count": 3,
   "metadata": {},
   "outputs": [
    {
     "data": {
      "text/html": [
       "<div>\n",
       "<style scoped>\n",
       "    .dataframe tbody tr th:only-of-type {\n",
       "        vertical-align: middle;\n",
       "    }\n",
       "\n",
       "    .dataframe tbody tr th {\n",
       "        vertical-align: top;\n",
       "    }\n",
       "\n",
       "    .dataframe thead th {\n",
       "        text-align: right;\n",
       "    }\n",
       "</style>\n",
       "<table border=\"1\" class=\"dataframe\">\n",
       "  <thead>\n",
       "    <tr style=\"text-align: right;\">\n",
       "      <th></th>\n",
       "      <th>RowNumber</th>\n",
       "      <th>CustomerId</th>\n",
       "      <th>Surname</th>\n",
       "      <th>CreditScore</th>\n",
       "      <th>Geography</th>\n",
       "      <th>Gender</th>\n",
       "      <th>Age</th>\n",
       "      <th>Tenure</th>\n",
       "      <th>Balance</th>\n",
       "      <th>NumOfProducts</th>\n",
       "      <th>HasCrCard</th>\n",
       "      <th>IsActiveMember</th>\n",
       "      <th>EstimatedSalary</th>\n",
       "      <th>Exited</th>\n",
       "    </tr>\n",
       "  </thead>\n",
       "  <tbody>\n",
       "    <tr>\n",
       "      <th>0</th>\n",
       "      <td>1</td>\n",
       "      <td>15634602</td>\n",
       "      <td>Hargrave</td>\n",
       "      <td>619</td>\n",
       "      <td>France</td>\n",
       "      <td>Female</td>\n",
       "      <td>42</td>\n",
       "      <td>2</td>\n",
       "      <td>0.00</td>\n",
       "      <td>1</td>\n",
       "      <td>1</td>\n",
       "      <td>1</td>\n",
       "      <td>101348.88</td>\n",
       "      <td>1</td>\n",
       "    </tr>\n",
       "    <tr>\n",
       "      <th>1</th>\n",
       "      <td>2</td>\n",
       "      <td>15647311</td>\n",
       "      <td>Hill</td>\n",
       "      <td>608</td>\n",
       "      <td>Spain</td>\n",
       "      <td>Female</td>\n",
       "      <td>41</td>\n",
       "      <td>1</td>\n",
       "      <td>83807.86</td>\n",
       "      <td>1</td>\n",
       "      <td>0</td>\n",
       "      <td>1</td>\n",
       "      <td>112542.58</td>\n",
       "      <td>0</td>\n",
       "    </tr>\n",
       "    <tr>\n",
       "      <th>2</th>\n",
       "      <td>3</td>\n",
       "      <td>15619304</td>\n",
       "      <td>Onio</td>\n",
       "      <td>502</td>\n",
       "      <td>France</td>\n",
       "      <td>Female</td>\n",
       "      <td>42</td>\n",
       "      <td>8</td>\n",
       "      <td>159660.80</td>\n",
       "      <td>3</td>\n",
       "      <td>1</td>\n",
       "      <td>0</td>\n",
       "      <td>113931.57</td>\n",
       "      <td>1</td>\n",
       "    </tr>\n",
       "    <tr>\n",
       "      <th>3</th>\n",
       "      <td>4</td>\n",
       "      <td>15701354</td>\n",
       "      <td>Boni</td>\n",
       "      <td>699</td>\n",
       "      <td>France</td>\n",
       "      <td>Female</td>\n",
       "      <td>39</td>\n",
       "      <td>1</td>\n",
       "      <td>0.00</td>\n",
       "      <td>2</td>\n",
       "      <td>0</td>\n",
       "      <td>0</td>\n",
       "      <td>93826.63</td>\n",
       "      <td>0</td>\n",
       "    </tr>\n",
       "    <tr>\n",
       "      <th>4</th>\n",
       "      <td>5</td>\n",
       "      <td>15737888</td>\n",
       "      <td>Mitchell</td>\n",
       "      <td>850</td>\n",
       "      <td>Spain</td>\n",
       "      <td>Female</td>\n",
       "      <td>43</td>\n",
       "      <td>2</td>\n",
       "      <td>125510.82</td>\n",
       "      <td>1</td>\n",
       "      <td>1</td>\n",
       "      <td>1</td>\n",
       "      <td>79084.10</td>\n",
       "      <td>0</td>\n",
       "    </tr>\n",
       "  </tbody>\n",
       "</table>\n",
       "</div>"
      ],
      "text/plain": [
       "   RowNumber  CustomerId   Surname  CreditScore Geography  Gender  Age  \\\n",
       "0          1    15634602  Hargrave          619    France  Female   42   \n",
       "1          2    15647311      Hill          608     Spain  Female   41   \n",
       "2          3    15619304      Onio          502    France  Female   42   \n",
       "3          4    15701354      Boni          699    France  Female   39   \n",
       "4          5    15737888  Mitchell          850     Spain  Female   43   \n",
       "\n",
       "   Tenure    Balance  NumOfProducts  HasCrCard  IsActiveMember  \\\n",
       "0       2       0.00              1          1               1   \n",
       "1       1   83807.86              1          0               1   \n",
       "2       8  159660.80              3          1               0   \n",
       "3       1       0.00              2          0               0   \n",
       "4       2  125510.82              1          1               1   \n",
       "\n",
       "   EstimatedSalary  Exited  \n",
       "0        101348.88       1  \n",
       "1        112542.58       0  \n",
       "2        113931.57       1  \n",
       "3         93826.63       0  \n",
       "4         79084.10       0  "
      ]
     },
     "execution_count": 3,
     "metadata": {},
     "output_type": "execute_result"
    }
   ],
   "source": [
    "df.head()"
   ]
  },
  {
   "cell_type": "markdown",
   "metadata": {},
   "source": [
    "As it can be seen, the variables <b>\"RowNumber\", \"CustomerId\", and \"Surname\"</b> are not useful for the model. <br>\n",
    "The values of these variables are unique for each observation."
   ]
  },
  {
   "cell_type": "code",
   "execution_count": 4,
   "metadata": {},
   "outputs": [],
   "source": [
    "X = df.iloc[:, 3:13]\n",
    "y = df.iloc[:, 13]"
   ]
  },
  {
   "cell_type": "markdown",
   "metadata": {},
   "source": [
    "### Creating dummy variables\n",
    "Machine learning models cannot process words, for this reason, columns that show categories need to be converted into dummy variables. <br>\n",
    "For example, the variable <b>\"Gender\"</b> will be transformed into a dummy variable with 0 being a female and 1 being a male. However, variables that <br>\n",
    "include more than two categories, will be split into more columns. <br>\n",
    "For instance, the <b>\"Geography\"</b> category has three levels, namely Germany, Spain, and France. This variable needs to be transformed into two binary columns. <br>\n",
    "In general, the number of columns/variables that will be created from a categorical variable are <b>c-1</b>, where c is the number of levels."
   ]
  },
  {
   "cell_type": "code",
   "execution_count": 5,
   "metadata": {},
   "outputs": [],
   "source": [
    "cat = [1,2]\n",
    "cat_cols = pd.get_dummies(X.iloc[:, cat], drop_first=True)"
   ]
  },
  {
   "cell_type": "code",
   "execution_count": 6,
   "metadata": {},
   "outputs": [
    {
     "data": {
      "text/html": [
       "<div>\n",
       "<style scoped>\n",
       "    .dataframe tbody tr th:only-of-type {\n",
       "        vertical-align: middle;\n",
       "    }\n",
       "\n",
       "    .dataframe tbody tr th {\n",
       "        vertical-align: top;\n",
       "    }\n",
       "\n",
       "    .dataframe thead th {\n",
       "        text-align: right;\n",
       "    }\n",
       "</style>\n",
       "<table border=\"1\" class=\"dataframe\">\n",
       "  <thead>\n",
       "    <tr style=\"text-align: right;\">\n",
       "      <th></th>\n",
       "      <th>Geography_Germany</th>\n",
       "      <th>Geography_Spain</th>\n",
       "      <th>Gender_Male</th>\n",
       "    </tr>\n",
       "  </thead>\n",
       "  <tbody>\n",
       "    <tr>\n",
       "      <th>0</th>\n",
       "      <td>0</td>\n",
       "      <td>0</td>\n",
       "      <td>0</td>\n",
       "    </tr>\n",
       "    <tr>\n",
       "      <th>1</th>\n",
       "      <td>0</td>\n",
       "      <td>1</td>\n",
       "      <td>0</td>\n",
       "    </tr>\n",
       "    <tr>\n",
       "      <th>2</th>\n",
       "      <td>0</td>\n",
       "      <td>0</td>\n",
       "      <td>0</td>\n",
       "    </tr>\n",
       "    <tr>\n",
       "      <th>3</th>\n",
       "      <td>0</td>\n",
       "      <td>0</td>\n",
       "      <td>0</td>\n",
       "    </tr>\n",
       "    <tr>\n",
       "      <th>4</th>\n",
       "      <td>0</td>\n",
       "      <td>1</td>\n",
       "      <td>0</td>\n",
       "    </tr>\n",
       "  </tbody>\n",
       "</table>\n",
       "</div>"
      ],
      "text/plain": [
       "   Geography_Germany  Geography_Spain  Gender_Male\n",
       "0                  0                0            0\n",
       "1                  0                1            0\n",
       "2                  0                0            0\n",
       "3                  0                0            0\n",
       "4                  0                1            0"
      ]
     },
     "execution_count": 6,
     "metadata": {},
     "output_type": "execute_result"
    }
   ],
   "source": [
    "cat_cols.head()"
   ]
  },
  {
   "cell_type": "code",
   "execution_count": 7,
   "metadata": {},
   "outputs": [],
   "source": [
    "X.drop(X.columns[cat], axis=1, inplace=True)"
   ]
  },
  {
   "cell_type": "code",
   "execution_count": 8,
   "metadata": {},
   "outputs": [],
   "source": [
    "X = pd.concat([X,cat_cols], axis=1)"
   ]
  },
  {
   "cell_type": "code",
   "execution_count": 9,
   "metadata": {},
   "outputs": [],
   "source": [
    "X_train, X_test, y_train, y_test = train_test_split(X, y, test_size = 0.2, random_state = 42)"
   ]
  },
  {
   "cell_type": "markdown",
   "metadata": {},
   "source": [
    "Standardize the variables for the Neural Network"
   ]
  },
  {
   "cell_type": "code",
   "execution_count": 10,
   "metadata": {},
   "outputs": [],
   "source": [
    "sc = StandardScaler()\n",
    "X_train = pd.DataFrame(sc.fit_transform(X_train),columns = X_train.columns)\n",
    "X_test = pd.DataFrame(sc.transform(X_test),columns = X_test.columns)"
   ]
  },
  {
   "cell_type": "markdown",
   "metadata": {},
   "source": [
    "Now, in an Artificial Neural Network, there is an input layer, some hidden layers and an output layer. <br>\n",
    "The input layer corresponds to a row/observation that travels through the neural network and outputs a specific value. <br>\n",
    "So, in the image below,\n",
    "<b>X1, X2, and X3,</b> are the independent variables for one row. In addition, <b>W1, W1, and W3,</b> are the weights for each variable. Note that this image does not depict the current Neural Network that we are using for this problem, but it rather shows a Neural Network with a dataset of 3 independent variables and a dependent variable."
   ]
  },
  {
   "cell_type": "markdown",
   "metadata": {},
   "source": [
    "<img src=\"simple_ann.png\" alt=\"Drawing\" style=\"width: 500px;\" />"
   ]
  },
  {
   "cell_type": "markdown",
   "metadata": {},
   "source": [
    "The neuron in the middle, applies an activation function based on the signals it receives. There are different activation functions, but one of the most common activation functions for the hidden layers is the Rectified Linear Unit (ReLU).\n",
    "\\begin{align}\n",
    "f (x) = max(x,0)\n",
    "\\end{align} <br>\n",
    "What the ReLU does, is that it returns x, if the $\\sum_{i=1}^{n} W_{i}X_{i}$ is above zero and 0 otherwise, where $x = \\sum_{i=1}^{n} W_{i}X_{i}$"
   ]
  },
  {
   "cell_type": "code",
   "execution_count": 11,
   "metadata": {},
   "outputs": [
    {
     "data": {
      "image/png": "[encoded data removed]",
      "text/plain": [
       "<Figure size 432x288 with 1 Axes>"
      ]
     },
     "metadata": {
      "needs_background": "light"
     },
     "output_type": "display_data"
    }
   ],
   "source": [
    "# rectified linear function\n",
    "def rectified(x):\n",
    "    return max(0.0, x)\n",
    " \n",
    "# define a series of inputs\n",
    "series_in = [x for x in range(-10, 11)]\n",
    "# calculate outputs for our inputs\n",
    "series_out = [rectified(x) for x in series_in]\n",
    "# line plot of raw inputs to rectified outputs\n",
    "pyplot.plot(series_in, series_out)\n",
    "pyplot.xlabel('x')\n",
    "pyplot.ylabel('y')\n",
    "pyplot.title('ReLU Function')\n",
    "pyplot.show()"
   ]
  },
  {
   "cell_type": "markdown",
   "metadata": {},
   "source": [
    "The Neural Network above includes only an input layer and an output layer. For a binary classification problem such as this one, where the customer will either churn or not, the sigmoid activation function for the output layer is a more proper function. <br>\n",
    "\n",
    "\\begin{align}\n",
    "f(x) = \\frac{1}{1 + e^{-x}}\n",
    "\\end{align}\n",
    "\n",
    "The Sigmoid function returns values ranging from 0 to 1, which is useful because in this situation, the dependent variable is either 0 (not churn) or 1 (churn). <br>\n",
    "Later, by applying a threshold (e.g., 0.5), we can assign values above this threshold as 1 and below as 0."
   ]
  },
  {
   "cell_type": "code",
   "execution_count": 12,
   "metadata": {},
   "outputs": [
    {
     "data": {
      "image/png": "[encoded data removed]",
      "text/plain": [
       "<Figure size 432x288 with 1 Axes>"
      ]
     },
     "metadata": {
      "needs_background": "light"
     },
     "output_type": "display_data"
    }
   ],
   "source": [
    "def sigmoid(x):\n",
    "    return (1/(1 + math.exp(-x)))\n",
    "\n",
    "\n",
    "# define a series of inputs\n",
    "series_in = [x for x in range(-10, 11)]\n",
    "# calculate outputs for our inputs\n",
    "series_out = [sigmoid(x) for x in series_in]\n",
    "# line plot of raw inputs to sigmoid outputs\n",
    "pyplot.plot(series_in, series_out)\n",
    "pyplot.xlabel('x')\n",
    "pyplot.ylabel('y')\n",
    "pyplot.title('Sigmoid Function')\n",
    "pyplot.show()"
   ]
  },
  {
   "cell_type": "markdown",
   "metadata": {},
   "source": [
    "The Neural Network below, includes an input layer with 3 neurons, a hidden layer with 4 neurons, and an output layer. <br>\n",
    "In this example, the activation function of the hidden layer can be the ReLU function whereas for the output layer, it can be the sigmoid function."
   ]
  },
  {
   "cell_type": "markdown",
   "metadata": {},
   "source": [
    "<img src=\"tikz10.png\" alt=\"Drawing\" style=\"width: 500px;\" />"
   ]
  },
  {
   "cell_type": "markdown",
   "metadata": {},
   "source": [
    "### Neural Network\n",
    "\n",
    "The ANN is build using the Keras framework, which uses TensorFlow in the backend. <br>\n",
    "In the code below, the number of nodes in the input layers needs to be defined. This is the <b>\"input_dim\"</b> argument, which corresponds to the number of independent variables. Next, the <b>\"units\"</b> argument, defines the number of neurons in the hidden layer. Note that the architecture below shows a Neural Network with two hidden layers. The input layer and the first hidden layer are both defined in one line of code, while the rest of the layers are defined later. <br>\n",
    "This means that the hidden layers have 6 neurons each with a <i>ReLU</i> activation function as described above while the output layer has 1 neuron and a <i>sigmoid</i> activation function as this is a binary classification problem. <br>\n",
    "<br>\n",
    "Next, the ANN model is compiled where the <b>optimizer</b>, the <b>loss</b>, and the <b>metric</b> is being defined. The optimizer argument defines the optimizer that will be used in order to update the weights of the model. Amongst those are the <i>Stochastic Gradient Descent</i>, the <i>Adaptive Moment Estimation (Adam)</i>, and the <i>Root Mean Squared Propagetion (RMSProp)</i>. The most popular optimizers are the Adam and the RMSProp. <br>\n",
    "For this problem, the <i>binary cross entropy (logarithmic)</i> loss is used.\n",
    "\n",
    "\\begin{align}\n",
    "\\small\n",
    "Logarithmic Loss = - \\frac{1}{n} \\; \\sum_{i=1}^{n} \\bigg(y^{i} \\; log\\phi \\bigg( \\sum_{j=1}{m}w_{j}x_{j}^{i} \\bigg) + (1-y^{i})log \\bigg(1 - \\phi \\bigg(\\sum_{j=1}^{m}w_{j}x_{j}^{i} \\bigg) \\bigg) \\bigg)\n",
    "\\end{align}\n",
    "\n",
    "where $\\phi$ is the sigmoid function, i is the index of the observation and j is the index of the feature. <br>\n",
    "<br>\n",
    "The metric, is the metric that will be shown, and in this case it is the accuracy.\n",
    "\n",
    "### Model Architecture"
   ]
  },
  {
   "cell_type": "code",
   "execution_count": 13,
   "metadata": {},
   "outputs": [
    {
     "name": "stdout",
     "output_type": "stream",
     "text": [
      "WARNING:tensorflow:From C:\\Users\\Hella\\Anaconda3\\lib\\site-packages\\tensorflow\\python\\framework\\op_def_library.py:263: colocate_with (from tensorflow.python.framework.ops) is deprecated and will be removed in a future version.\n",
      "Instructions for updating:\n",
      "Colocations handled automatically by placer.\n"
     ]
    }
   ],
   "source": [
    "classifier = Sequential()\n",
    "\n",
    "classifier.add(Dense(units=6, activation='relu',input_dim=11))\n",
    "classifier.add(Dense(units=6, activation='relu'))\n",
    "classifier.add(Dense(units=1, activation='sigmoid'))\n",
    "classifier.compile(optimizer='adam', loss='binary_crossentropy', metrics=['accuracy'])\n"
   ]
  },
  {
   "cell_type": "markdown",
   "metadata": {},
   "source": [
    "The architecture of the current ANN is shown below."
   ]
  },
  {
   "cell_type": "code",
   "execution_count": 14,
   "metadata": {},
   "outputs": [
    {
     "name": "stdout",
     "output_type": "stream",
     "text": [
      "_________________________________________________________________\n",
      "Layer (type)                 Output Shape              Param #   \n",
      "=================================================================\n",
      "dense_1 (Dense)              (None, 6)                 72        \n",
      "_________________________________________________________________\n",
      "dense_2 (Dense)              (None, 6)                 42        \n",
      "_________________________________________________________________\n",
      "dense_3 (Dense)              (None, 1)                 7         \n",
      "=================================================================\n",
      "Total params: 121\n",
      "Trainable params: 121\n",
      "Non-trainable params: 0\n",
      "_________________________________________________________________\n",
      "None\n"
     ]
    }
   ],
   "source": [
    "print(classifier.summary())"
   ]
  },
  {
   "cell_type": "markdown",
   "metadata": {},
   "source": [
    "After defining the model architecture, in order to train the model to the training data, the batch size as well as the number of epochs need to be defined. <br>\n",
    "The batch size essentially shows after how many observations the weights will be updated. For instance, with a batch size of 32, 32 observations will pass through the ANN and after that, the weights will be updated. <br>\n",
    "<br>\n",
    "Next, the number of epochs shows how many times all the observations will pass through the neural network."
   ]
  },
  {
   "cell_type": "code",
   "execution_count": 15,
   "metadata": {},
   "outputs": [
    {
     "name": "stdout",
     "output_type": "stream",
     "text": [
      "WARNING:tensorflow:From C:\\Users\\Hella\\Anaconda3\\lib\\site-packages\\tensorflow\\python\\ops\\math_ops.py:3066: to_int32 (from tensorflow.python.ops.math_ops) is deprecated and will be removed in a future version.\n",
      "Instructions for updating:\n",
      "Use tf.cast instead.\n",
      "Epoch 1/50\n",
      "8000/8000 [==============================] - 4s 477us/step - loss: 0.5187 - acc: 0.7902\n",
      "Epoch 2/50\n",
      "8000/8000 [==============================] - 1s 132us/step - loss: 0.4584 - acc: 0.7945\n",
      "Epoch 3/50\n",
      "8000/8000 [==============================] - 1s 137us/step - loss: 0.4435 - acc: 0.7945\n",
      "Epoch 4/50\n",
      "8000/8000 [==============================] - 1s 128us/step - loss: 0.4356 - acc: 0.7943\n",
      "Epoch 5/50\n",
      "8000/8000 [==============================] - 1s 119us/step - loss: 0.4285 - acc: 0.8103\n",
      "Epoch 6/50\n",
      "8000/8000 [==============================] - 1s 117us/step - loss: 0.4218 - acc: 0.8197\n",
      "Epoch 7/50\n",
      "8000/8000 [==============================] - 1s 121us/step - loss: 0.4162 - acc: 0.8216\n",
      "Epoch 8/50\n",
      "8000/8000 [==============================] - 1s 121us/step - loss: 0.4115 - acc: 0.8233\n",
      "Epoch 9/50\n",
      "8000/8000 [==============================] - 1s 117us/step - loss: 0.4076 - acc: 0.8239\n",
      "Epoch 10/50\n",
      "8000/8000 [==============================] - 1s 117us/step - loss: 0.4039 - acc: 0.8249\n",
      "Epoch 11/50\n",
      "8000/8000 [==============================] - 1s 125us/step - loss: 0.4004 - acc: 0.8246\n",
      "Epoch 12/50\n",
      "8000/8000 [==============================] - 1s 133us/step - loss: 0.3975 - acc: 0.8261\n",
      "Epoch 13/50\n",
      "8000/8000 [==============================] - 1s 131us/step - loss: 0.3945 - acc: 0.8265\n",
      "Epoch 14/50\n",
      "8000/8000 [==============================] - 1s 131us/step - loss: 0.3922 - acc: 0.8267\n",
      "Epoch 15/50\n",
      "8000/8000 [==============================] - 1s 133us/step - loss: 0.3897 - acc: 0.8277\n",
      "Epoch 16/50\n",
      "8000/8000 [==============================] - 1s 133us/step - loss: 0.3870 - acc: 0.8281\n",
      "Epoch 17/50\n",
      "8000/8000 [==============================] - 1s 130us/step - loss: 0.3847 - acc: 0.8301\n",
      "Epoch 18/50\n",
      "8000/8000 [==============================] - 1s 121us/step - loss: 0.3821 - acc: 0.8286\n",
      "Epoch 19/50\n",
      "8000/8000 [==============================] - 1s 118us/step - loss: 0.3796 - acc: 0.8339\n",
      "Epoch 20/50\n",
      "8000/8000 [==============================] - 1s 118us/step - loss: 0.3773 - acc: 0.8410\n",
      "Epoch 21/50\n",
      "8000/8000 [==============================] - 1s 128us/step - loss: 0.3749 - acc: 0.8415\n",
      "Epoch 22/50\n",
      "8000/8000 [==============================] - 1s 120us/step - loss: 0.3726 - acc: 0.8427\n",
      "Epoch 23/50\n",
      "8000/8000 [==============================] - 1s 119us/step - loss: 0.3701 - acc: 0.8449\n",
      "Epoch 24/50\n",
      "8000/8000 [==============================] - 1s 126us/step - loss: 0.3676 - acc: 0.8474\n",
      "Epoch 25/50\n",
      "8000/8000 [==============================] - 1s 118us/step - loss: 0.3660 - acc: 0.8471\n",
      "Epoch 26/50\n",
      "8000/8000 [==============================] - 1s 117us/step - loss: 0.3637 - acc: 0.8514\n",
      "Epoch 27/50\n",
      "8000/8000 [==============================] - 1s 117us/step - loss: 0.3615 - acc: 0.8500\n",
      "Epoch 28/50\n",
      "8000/8000 [==============================] - 1s 121us/step - loss: 0.3604 - acc: 0.8540\n",
      "Epoch 29/50\n",
      "8000/8000 [==============================] - 1s 124us/step - loss: 0.3580 - acc: 0.8538\n",
      "Epoch 30/50\n",
      "8000/8000 [==============================] - 1s 119us/step - loss: 0.3567 - acc: 0.8526\n",
      "Epoch 31/50\n",
      "8000/8000 [==============================] - 1s 118us/step - loss: 0.3550 - acc: 0.8561\n",
      "Epoch 32/50\n",
      "8000/8000 [==============================] - 1s 134us/step - loss: 0.3533 - acc: 0.8575\n",
      "Epoch 33/50\n",
      "8000/8000 [==============================] - 1s 117us/step - loss: 0.3517 - acc: 0.8578\n",
      "Epoch 34/50\n",
      "8000/8000 [==============================] - 1s 118us/step - loss: 0.3506 - acc: 0.8578\n",
      "Epoch 35/50\n",
      "8000/8000 [==============================] - 1s 118us/step - loss: 0.3492 - acc: 0.8594\n",
      "Epoch 36/50\n",
      "8000/8000 [==============================] - 1s 119us/step - loss: 0.3487 - acc: 0.8592\n",
      "Epoch 37/50\n",
      "8000/8000 [==============================] - 1s 117us/step - loss: 0.3473 - acc: 0.8606\n",
      "Epoch 38/50\n",
      "8000/8000 [==============================] - 1s 124us/step - loss: 0.3469 - acc: 0.8587\n",
      "Epoch 39/50\n",
      "8000/8000 [==============================] - 1s 119us/step - loss: 0.3459 - acc: 0.8584\n",
      "Epoch 40/50\n",
      "8000/8000 [==============================] - 1s 118us/step - loss: 0.3450 - acc: 0.8589\n",
      "Epoch 41/50\n",
      "8000/8000 [==============================] - 1s 122us/step - loss: 0.3446 - acc: 0.8604\n",
      "Epoch 42/50\n",
      "8000/8000 [==============================] - 1s 117us/step - loss: 0.3436 - acc: 0.8594\n",
      "Epoch 43/50\n",
      "8000/8000 [==============================] - 1s 118us/step - loss: 0.3432 - acc: 0.8591\n",
      "Epoch 44/50\n",
      "8000/8000 [==============================] - 1s 119us/step - loss: 0.3429 - acc: 0.8590\n",
      "Epoch 45/50\n",
      "8000/8000 [==============================] - 1s 122us/step - loss: 0.3421 - acc: 0.8592\n",
      "Epoch 46/50\n",
      "8000/8000 [==============================] - 1s 118us/step - loss: 0.3418 - acc: 0.8608\n",
      "Epoch 47/50\n",
      "8000/8000 [==============================] - 1s 118us/step - loss: 0.3415 - acc: 0.8599\n",
      "Epoch 48/50\n",
      "8000/8000 [==============================] - 1s 127us/step - loss: 0.3407 - acc: 0.8596\n",
      "Epoch 49/50\n",
      "8000/8000 [==============================] - 1s 128us/step - loss: 0.3407 - acc: 0.8595\n",
      "Epoch 50/50\n",
      "8000/8000 [==============================] - 1s 122us/step - loss: 0.3407 - acc: 0.8601\n"
     ]
    },
    {
     "data": {
      "text/plain": [
       "<keras.callbacks.History at 0x2b8a8328b00>"
      ]
     },
     "execution_count": 15,
     "metadata": {},
     "output_type": "execute_result"
    }
   ],
   "source": [
    "classifier.fit(X_train, y_train, batch_size=32, epochs=50)"
   ]
  },
  {
   "cell_type": "markdown",
   "metadata": {},
   "source": [
    "Furthermore, as explained previously, the model will make predictions on the test set, and a threshold will be set in order to classify the customers that are going to churn and those that are not. <br>\n",
    "The threshold that is applied here is 0.5."
   ]
  },
  {
   "cell_type": "code",
   "execution_count": 16,
   "metadata": {},
   "outputs": [],
   "source": [
    "y_pred = classifier.predict(X_test)\n",
    "y_pred = (y_pred > 0.5)"
   ]
  },
  {
   "cell_type": "markdown",
   "metadata": {},
   "source": [
    "Finally, with a <b>confusion matrix</b>, we can see how many observations were correctly predicted. More specifically, a confusion matrix gives information about the <b>True Positive rate, True Negative rate, False Positive rate, and False Negative rate</b>. It is also useful in cases when the dataset is severely unbalanced. In these cases, the confusion matrix shows if the model predicts every observation into one class. The accuracy values in these unbalanced datasets can be misleading, as it can be very high. <br>\n",
    "<br>\n",
    "For this particular problem, the dataset is balanced."
   ]
  },
  {
   "cell_type": "code",
   "execution_count": 17,
   "metadata": {},
   "outputs": [
    {
     "name": "stdout",
     "output_type": "stream",
     "text": [
      "[[1528   79]\n",
      " [ 206  187]]\n",
      "Accuracy:  85.75\n"
     ]
    }
   ],
   "source": [
    "labels = [0, 1]\n",
    "cm = confusion_matrix(y_test, y_pred, labels)\n",
    "print(cm)\n",
    "print('Accuracy: ',(cm[0,0]+cm[1,1])/len(y_test)*100)"
   ]
  },
  {
   "cell_type": "markdown",
   "metadata": {},
   "source": [
    "For this classification problem regarding customer churn, the model correctly predicted that 1528 customers will not churn and 187 customers will churn. In addition, it falsely predicted that 79 customers will churn and that 206 will not churn. The <b>accuracy</b> of the model is <b>85.75%</b>. Below, a plot of the confusion matrix is shown."
   ]
  },
  {
   "cell_type": "code",
   "execution_count": 18,
   "metadata": {},
   "outputs": [
    {
     "data": {
      "image/png": "[encoded data removed]",
      "text/plain": [
       "<Figure size 432x288 with 2 Axes>"
      ]
     },
     "metadata": {
      "needs_background": "light"
     },
     "output_type": "display_data"
    }
   ],
   "source": [
    "fig = plt.figure()\n",
    "ax = fig.add_subplot(111)\n",
    "cax = ax.matshow(cm)\n",
    "plt.title('Confusion matrix of the classifier')\n",
    "fig.colorbar(cax)\n",
    "ax.set_xticklabels([''] + ['Not Churn', 'Churn'])\n",
    "ax.set_yticklabels([''] + ['Not Churn', 'Churn'])\n",
    "plt.xlabel('Predicted')\n",
    "plt.ylabel('True')\n",
    "plt.show()"
   ]
  }
 ],
 "metadata": {
  "kernelspec": {
   "display_name": "Python 3",
   "language": "python",
   "name": "python3"
  },
  "language_info": {
   "codemirror_mode": {
    "name": "ipython",
    "version": 3
   },
   "file_extension": ".py",
   "mimetype": "text/x-python",
   "name": "python",
   "nbconvert_exporter": "python",
   "pygments_lexer": "ipython3",
   "version": "3.6.8"
  }
 },
 "nbformat": 4,
 "nbformat_minor": 2
}
