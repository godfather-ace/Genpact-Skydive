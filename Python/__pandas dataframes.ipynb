{
  "metadata": {
    "language_info": {
      "codemirror_mode": {
        "name": "python",
        "version": 3
      },
      "file_extension": ".py",
      "mimetype": "text/x-python",
      "name": "python",
      "nbconvert_exporter": "python",
      "pygments_lexer": "ipython3",
      "version": "3.8"
    },
    "kernelspec": {
      "name": "python",
      "display_name": "Python (Pyodide)",
      "language": "python"
    }
  },
  "nbformat_minor": 4,
  "nbformat": 4,
  "cells": [
    {
      "cell_type": "markdown",
      "source": "# Pandas\nPandas is a fast, powerful, flexible and easy to use open source data analysis and manipulation tool, built on top of the Python programming language. ",
      "metadata": {}
    },
    {
      "cell_type": "markdown",
      "source": "# DataFrame\nIn a DataFrame, the data is arranged in rows and columns much like a table. Similar to a two-dimensional array, it is a two-dimensional data structure. ",
      "metadata": {}
    },
    {
      "cell_type": "markdown",
      "source": "## Creating a Pandas DataFrame Using Dictionary",
      "metadata": {}
    },
    {
      "cell_type": "code",
      "source": "import pandas as pd\n\n# create a dictionary\ndata = {'Name': ['Virat', 'Rohit', 'Ramesh'],\n       'Age': [35, 40, 45],\n       'City': ['Punjab', 'Mumbai', 'Chandigarh']}\n\n# create a dataframe from the dictionary\ndf = pd.DataFrame(data)\n\n\nprint(df)",
      "metadata": {
        "trusted": true
      },
      "execution_count": 38,
      "outputs": [
        {
          "name": "stdout",
          "text": "     Name  Age        City\n0   Virat   35      Punjab\n1   Rohit   40      Mumbai\n2  Ramesh   45  Chandigarh\n",
          "output_type": "stream"
        }
      ]
    },
    {
      "cell_type": "markdown",
      "source": "## Creating a Pandas DataFrame Using Python List",
      "metadata": {}
    },
    {
      "cell_type": "code",
      "source": "import pandas as pd\n\n# create a two-dimensional list\ndata = [['Virat', 35, 'Punjab'],\n       ['Rohit', 40, 'Mumbai'],\n       ['Ramesh', 45, 'Chandigarh']]\n\n# create a DataFrame from the list\ndf = pd.DataFrame(data, columns=['Name', 'Age', 'City'])\n\n\nprint(df)",
      "metadata": {
        "trusted": true
      },
      "execution_count": 39,
      "outputs": [
        {
          "name": "stdout",
          "text": "     Name  Age        City\n0   Virat   35      Punjab\n1   Rohit   40      Mumbai\n2  Ramesh   45  Chandigarh\n",
          "output_type": "stream"
        }
      ]
    },
    {
      "cell_type": "markdown",
      "source": "## Creating a Pandas DataFrame From a File",
      "metadata": {}
    },
    {
      "cell_type": "code",
      "source": "import pandas as pd\n\n# load data from a CSV file\ndf = pd.read_csv('sampledata.csv')\n\nprint(df)",
      "metadata": {
        "trusted": true
      },
      "execution_count": 56,
      "outputs": [
        {
          "name": "stdout",
          "text": "     Name  Age        City\n0   Virat   55      Punjab\n1   Rohit   70      Mumbai\n2  Ramesh   45  Chandigarh\n",
          "output_type": "stream"
        }
      ]
    },
    {
      "cell_type": "markdown",
      "source": "## Pandas DataFrame Functions",
      "metadata": {}
    },
    {
      "cell_type": "markdown",
      "source": "### Head",
      "metadata": {}
    },
    {
      "cell_type": "code",
      "source": "# top 5 rows\ndf.head()",
      "metadata": {
        "trusted": true
      },
      "execution_count": 41,
      "outputs": [
        {
          "execution_count": 41,
          "output_type": "execute_result",
          "data": {
            "text/plain": "     Name  Age        City\n0   Virat   55      Punjab\n1   Rohit   70      Mumbai\n2  Ramesh   45  Chandigarh",
            "text/html": "<div>\n<style scoped>\n    .dataframe tbody tr th:only-of-type {\n        vertical-align: middle;\n    }\n\n    .dataframe tbody tr th {\n        vertical-align: top;\n    }\n\n    .dataframe thead th {\n        text-align: right;\n    }\n</style>\n<table border=\"1\" class=\"dataframe\">\n  <thead>\n    <tr style=\"text-align: right;\">\n      <th></th>\n      <th>Name</th>\n      <th>Age</th>\n      <th>City</th>\n    </tr>\n  </thead>\n  <tbody>\n    <tr>\n      <th>0</th>\n      <td>Virat</td>\n      <td>55</td>\n      <td>Punjab</td>\n    </tr>\n    <tr>\n      <th>1</th>\n      <td>Rohit</td>\n      <td>70</td>\n      <td>Mumbai</td>\n    </tr>\n    <tr>\n      <th>2</th>\n      <td>Ramesh</td>\n      <td>45</td>\n      <td>Chandigarh</td>\n    </tr>\n  </tbody>\n</table>\n</div>"
          },
          "metadata": {}
        }
      ]
    },
    {
      "cell_type": "code",
      "source": "# top 2 rows\ndf.head(2)",
      "metadata": {
        "trusted": true
      },
      "execution_count": 42,
      "outputs": [
        {
          "execution_count": 42,
          "output_type": "execute_result",
          "data": {
            "text/plain": "    Name  Age    City\n0  Virat   55  Punjab\n1  Rohit   70  Mumbai",
            "text/html": "<div>\n<style scoped>\n    .dataframe tbody tr th:only-of-type {\n        vertical-align: middle;\n    }\n\n    .dataframe tbody tr th {\n        vertical-align: top;\n    }\n\n    .dataframe thead th {\n        text-align: right;\n    }\n</style>\n<table border=\"1\" class=\"dataframe\">\n  <thead>\n    <tr style=\"text-align: right;\">\n      <th></th>\n      <th>Name</th>\n      <th>Age</th>\n      <th>City</th>\n    </tr>\n  </thead>\n  <tbody>\n    <tr>\n      <th>0</th>\n      <td>Virat</td>\n      <td>55</td>\n      <td>Punjab</td>\n    </tr>\n    <tr>\n      <th>1</th>\n      <td>Rohit</td>\n      <td>70</td>\n      <td>Mumbai</td>\n    </tr>\n  </tbody>\n</table>\n</div>"
          },
          "metadata": {}
        }
      ]
    },
    {
      "cell_type": "markdown",
      "source": "### Tail",
      "metadata": {}
    },
    {
      "cell_type": "code",
      "source": "# last 2 rows\ndf.tail(2)",
      "metadata": {
        "trusted": true
      },
      "execution_count": 43,
      "outputs": [
        {
          "execution_count": 43,
          "output_type": "execute_result",
          "data": {
            "text/plain": "     Name  Age        City\n1   Rohit   70      Mumbai\n2  Ramesh   45  Chandigarh",
            "text/html": "<div>\n<style scoped>\n    .dataframe tbody tr th:only-of-type {\n        vertical-align: middle;\n    }\n\n    .dataframe tbody tr th {\n        vertical-align: top;\n    }\n\n    .dataframe thead th {\n        text-align: right;\n    }\n</style>\n<table border=\"1\" class=\"dataframe\">\n  <thead>\n    <tr style=\"text-align: right;\">\n      <th></th>\n      <th>Name</th>\n      <th>Age</th>\n      <th>City</th>\n    </tr>\n  </thead>\n  <tbody>\n    <tr>\n      <th>1</th>\n      <td>Rohit</td>\n      <td>70</td>\n      <td>Mumbai</td>\n    </tr>\n    <tr>\n      <th>2</th>\n      <td>Ramesh</td>\n      <td>45</td>\n      <td>Chandigarh</td>\n    </tr>\n  </tbody>\n</table>\n</div>"
          },
          "metadata": {}
        }
      ]
    },
    {
      "cell_type": "code",
      "source": "# last 5 rows\ndf.tail()",
      "metadata": {
        "trusted": true
      },
      "execution_count": 44,
      "outputs": [
        {
          "execution_count": 44,
          "output_type": "execute_result",
          "data": {
            "text/plain": "     Name  Age        City\n0   Virat   55      Punjab\n1   Rohit   70      Mumbai\n2  Ramesh   45  Chandigarh",
            "text/html": "<div>\n<style scoped>\n    .dataframe tbody tr th:only-of-type {\n        vertical-align: middle;\n    }\n\n    .dataframe tbody tr th {\n        vertical-align: top;\n    }\n\n    .dataframe thead th {\n        text-align: right;\n    }\n</style>\n<table border=\"1\" class=\"dataframe\">\n  <thead>\n    <tr style=\"text-align: right;\">\n      <th></th>\n      <th>Name</th>\n      <th>Age</th>\n      <th>City</th>\n    </tr>\n  </thead>\n  <tbody>\n    <tr>\n      <th>0</th>\n      <td>Virat</td>\n      <td>55</td>\n      <td>Punjab</td>\n    </tr>\n    <tr>\n      <th>1</th>\n      <td>Rohit</td>\n      <td>70</td>\n      <td>Mumbai</td>\n    </tr>\n    <tr>\n      <th>2</th>\n      <td>Ramesh</td>\n      <td>45</td>\n      <td>Chandigarh</td>\n    </tr>\n  </tbody>\n</table>\n</div>"
          },
          "metadata": {}
        }
      ]
    },
    {
      "cell_type": "markdown",
      "source": "### Info",
      "metadata": {}
    },
    {
      "cell_type": "code",
      "source": "df.info()",
      "metadata": {
        "trusted": true
      },
      "execution_count": 45,
      "outputs": [
        {
          "name": "stdout",
          "text": "<class 'pandas.core.frame.DataFrame'>\nRangeIndex: 3 entries, 0 to 2\nData columns (total 3 columns):\n #   Column  Non-Null Count  Dtype \n---  ------  --------------  ----- \n 0   Name    3 non-null      object\n 1   Age     3 non-null      int64 \n 2   City    3 non-null      object\ndtypes: int64(1), object(2)\nmemory usage: 120.0+ bytes\n",
          "output_type": "stream"
        }
      ]
    },
    {
      "cell_type": "markdown",
      "source": "### Shape",
      "metadata": {}
    },
    {
      "cell_type": "code",
      "source": "df.shape",
      "metadata": {
        "trusted": true
      },
      "execution_count": 46,
      "outputs": [
        {
          "execution_count": 46,
          "output_type": "execute_result",
          "data": {
            "text/plain": "(3, 3)"
          },
          "metadata": {}
        }
      ]
    },
    {
      "cell_type": "markdown",
      "source": "### Datatypes",
      "metadata": {}
    },
    {
      "cell_type": "code",
      "source": "df.dtypes",
      "metadata": {
        "trusted": true
      },
      "execution_count": 47,
      "outputs": [
        {
          "execution_count": 47,
          "output_type": "execute_result",
          "data": {
            "text/plain": "Name    object\nAge      int64\nCity    object\ndtype: object"
          },
          "metadata": {}
        }
      ]
    },
    {
      "cell_type": "markdown",
      "source": "### Describe",
      "metadata": {}
    },
    {
      "cell_type": "code",
      "source": "df.describe()",
      "metadata": {
        "trusted": true
      },
      "execution_count": 48,
      "outputs": [
        {
          "execution_count": 48,
          "output_type": "execute_result",
          "data": {
            "text/plain": "             Age\ncount   3.000000\nmean   56.666667\nstd    12.583057\nmin    45.000000\n25%    50.000000\n50%    55.000000\n75%    62.500000\nmax    70.000000",
            "text/html": "<div>\n<style scoped>\n    .dataframe tbody tr th:only-of-type {\n        vertical-align: middle;\n    }\n\n    .dataframe tbody tr th {\n        vertical-align: top;\n    }\n\n    .dataframe thead th {\n        text-align: right;\n    }\n</style>\n<table border=\"1\" class=\"dataframe\">\n  <thead>\n    <tr style=\"text-align: right;\">\n      <th></th>\n      <th>Age</th>\n    </tr>\n  </thead>\n  <tbody>\n    <tr>\n      <th>count</th>\n      <td>3.000000</td>\n    </tr>\n    <tr>\n      <th>mean</th>\n      <td>56.666667</td>\n    </tr>\n    <tr>\n      <th>std</th>\n      <td>12.583057</td>\n    </tr>\n    <tr>\n      <th>min</th>\n      <td>45.000000</td>\n    </tr>\n    <tr>\n      <th>25%</th>\n      <td>50.000000</td>\n    </tr>\n    <tr>\n      <th>50%</th>\n      <td>55.000000</td>\n    </tr>\n    <tr>\n      <th>75%</th>\n      <td>62.500000</td>\n    </tr>\n    <tr>\n      <th>max</th>\n      <td>70.000000</td>\n    </tr>\n  </tbody>\n</table>\n</div>"
          },
          "metadata": {}
        }
      ]
    },
    {
      "cell_type": "markdown",
      "source": "### Sorting",
      "metadata": {}
    },
    {
      "cell_type": "code",
      "source": "# in ascending order\ndf.sort_values(\"Age\")",
      "metadata": {
        "trusted": true
      },
      "execution_count": 53,
      "outputs": [
        {
          "execution_count": 53,
          "output_type": "execute_result",
          "data": {
            "text/plain": "     Name  Age        City\n2  Ramesh   45  Chandigarh\n0   Virat   55      Punjab\n1   Rohit   70      Mumbai",
            "text/html": "<div>\n<style scoped>\n    .dataframe tbody tr th:only-of-type {\n        vertical-align: middle;\n    }\n\n    .dataframe tbody tr th {\n        vertical-align: top;\n    }\n\n    .dataframe thead th {\n        text-align: right;\n    }\n</style>\n<table border=\"1\" class=\"dataframe\">\n  <thead>\n    <tr style=\"text-align: right;\">\n      <th></th>\n      <th>Name</th>\n      <th>Age</th>\n      <th>City</th>\n    </tr>\n  </thead>\n  <tbody>\n    <tr>\n      <th>2</th>\n      <td>Ramesh</td>\n      <td>45</td>\n      <td>Chandigarh</td>\n    </tr>\n    <tr>\n      <th>0</th>\n      <td>Virat</td>\n      <td>55</td>\n      <td>Punjab</td>\n    </tr>\n    <tr>\n      <th>1</th>\n      <td>Rohit</td>\n      <td>70</td>\n      <td>Mumbai</td>\n    </tr>\n  </tbody>\n</table>\n</div>"
          },
          "metadata": {}
        }
      ]
    },
    {
      "cell_type": "code",
      "source": "# in descending order\ndf.sort_values(\"Age\", ascending=False)",
      "metadata": {
        "trusted": true
      },
      "execution_count": 52,
      "outputs": [
        {
          "execution_count": 52,
          "output_type": "execute_result",
          "data": {
            "text/plain": "     Name  Age        City\n1   Rohit   70      Mumbai\n0   Virat   55      Punjab\n2  Ramesh   45  Chandigarh",
            "text/html": "<div>\n<style scoped>\n    .dataframe tbody tr th:only-of-type {\n        vertical-align: middle;\n    }\n\n    .dataframe tbody tr th {\n        vertical-align: top;\n    }\n\n    .dataframe thead th {\n        text-align: right;\n    }\n</style>\n<table border=\"1\" class=\"dataframe\">\n  <thead>\n    <tr style=\"text-align: right;\">\n      <th></th>\n      <th>Name</th>\n      <th>Age</th>\n      <th>City</th>\n    </tr>\n  </thead>\n  <tbody>\n    <tr>\n      <th>1</th>\n      <td>Rohit</td>\n      <td>70</td>\n      <td>Mumbai</td>\n    </tr>\n    <tr>\n      <th>0</th>\n      <td>Virat</td>\n      <td>55</td>\n      <td>Punjab</td>\n    </tr>\n    <tr>\n      <th>2</th>\n      <td>Ramesh</td>\n      <td>45</td>\n      <td>Chandigarh</td>\n    </tr>\n  </tbody>\n</table>\n</div>"
          },
          "metadata": {}
        }
      ]
    },
    {
      "cell_type": "markdown",
      "source": "## Accessing values",
      "metadata": {}
    },
    {
      "cell_type": "markdown",
      "source": "### Accessing rows by index",
      "metadata": {}
    },
    {
      "cell_type": "code",
      "source": "# row at 1st index\ndf.iloc[1]",
      "metadata": {
        "trusted": true
      },
      "execution_count": 57,
      "outputs": [
        {
          "execution_count": 57,
          "output_type": "execute_result",
          "data": {
            "text/plain": "Name     Rohit\nAge         70\nCity    Mumbai\nName: 1, dtype: object"
          },
          "metadata": {}
        }
      ]
    },
    {
      "cell_type": "code",
      "source": "# row at 2nd index\ndf.iloc[2]",
      "metadata": {
        "trusted": true
      },
      "execution_count": 61,
      "outputs": [
        {
          "execution_count": 61,
          "output_type": "execute_result",
          "data": {
            "text/plain": "Name        Ramesh\nAge             45\nCity    Chandigarh\nName: 2, dtype: object"
          },
          "metadata": {}
        }
      ]
    },
    {
      "cell_type": "markdown",
      "source": "### Accessing cols by colname",
      "metadata": {}
    },
    {
      "cell_type": "code",
      "source": "df['Age']",
      "metadata": {
        "trusted": true
      },
      "execution_count": 63,
      "outputs": [
        {
          "execution_count": 63,
          "output_type": "execute_result",
          "data": {
            "text/plain": "0    55\n1    70\n2    45\nName: Age, dtype: int64"
          },
          "metadata": {}
        }
      ]
    },
    {
      "cell_type": "code",
      "source": "df['Name']",
      "metadata": {
        "trusted": true
      },
      "execution_count": 64,
      "outputs": [
        {
          "execution_count": 64,
          "output_type": "execute_result",
          "data": {
            "text/plain": "0     Virat\n1     Rohit\n2    Ramesh\nName: Name, dtype: object"
          },
          "metadata": {}
        }
      ]
    },
    {
      "cell_type": "markdown",
      "source": "## Manipulation",
      "metadata": {}
    },
    {
      "cell_type": "markdown",
      "source": "### Removing columns",
      "metadata": {}
    },
    {
      "cell_type": "code",
      "source": "# deleting Age column\nprint(df)\ndf_new = df.drop('Age', axis=1)\nprint('==============================')\nprint(df_new)",
      "metadata": {
        "trusted": true
      },
      "execution_count": 83,
      "outputs": [
        {
          "name": "stdout",
          "text": "     Name  Age        City\n0   Virat   55      Punjab\n1   Rohit   70      Mumbai\n2  Ramesh   45  Chandigarh\n==============================\n     Name        City\n0   Virat      Punjab\n1   Rohit      Mumbai\n2  Ramesh  Chandigarh\n",
          "output_type": "stream"
        }
      ]
    },
    {
      "cell_type": "code",
      "source": "# deleting multiple columns\nprint(df)\ndf_new = df.drop(['Age', 'City'], axis=1)\nprint('==============================')\nprint(df_new)",
      "metadata": {
        "trusted": true
      },
      "execution_count": 84,
      "outputs": [
        {
          "name": "stdout",
          "text": "     Name  Age        City\n0   Virat   55      Punjab\n1   Rohit   70      Mumbai\n2  Ramesh   45  Chandigarh\n==============================\n     Name\n0   Virat\n1   Rohit\n2  Ramesh\n",
          "output_type": "stream"
        }
      ]
    },
    {
      "cell_type": "markdown",
      "source": "### Removing rows",
      "metadata": {}
    },
    {
      "cell_type": "code",
      "source": "# deleting last row (2nd index)\nprint(df)\ndf_new = df.drop(2, axis=0)\nprint('==============================')\nprint(df_new)",
      "metadata": {
        "trusted": true
      },
      "execution_count": 85,
      "outputs": [
        {
          "name": "stdout",
          "text": "     Name  Age        City\n0   Virat   55      Punjab\n1   Rohit   70      Mumbai\n2  Ramesh   45  Chandigarh\n==============================\n    Name  Age    City\n0  Virat   55  Punjab\n1  Rohit   70  Mumbai\n",
          "output_type": "stream"
        }
      ]
    },
    {
      "cell_type": "code",
      "source": "# deleting multiple rows\nprint(df)\ndf_new = df.drop([1, 2], axis=0)\nprint('==============================')\nprint(df_new)",
      "metadata": {
        "trusted": true
      },
      "execution_count": 86,
      "outputs": [
        {
          "name": "stdout",
          "text": "     Name  Age        City\n0   Virat   55      Punjab\n1   Rohit   70      Mumbai\n2  Ramesh   45  Chandigarh\n==============================\n    Name  Age    City\n0  Virat   55  Punjab\n",
          "output_type": "stream"
        }
      ]
    },
    {
      "cell_type": "markdown",
      "source": "### Renaming Cols",
      "metadata": {}
    },
    {
      "cell_type": "markdown",
      "source": "### renaming one col",
      "metadata": {}
    },
    {
      "cell_type": "code",
      "source": "print(df)\ndf_new = df.rename(columns={'City': 'Location'})\nprint('==============================')\nprint(df_new)",
      "metadata": {
        "trusted": true
      },
      "execution_count": 87,
      "outputs": [
        {
          "name": "stdout",
          "text": "     Name  Age        City\n0   Virat   55      Punjab\n1   Rohit   70      Mumbai\n2  Ramesh   45  Chandigarh\n==============================\n     Name  Age    Location\n0   Virat   55      Punjab\n1   Rohit   70      Mumbai\n2  Ramesh   45  Chandigarh\n",
          "output_type": "stream"
        }
      ]
    },
    {
      "cell_type": "markdown",
      "source": "### renaming multiple rows",
      "metadata": {}
    },
    {
      "cell_type": "code",
      "source": "print(df)\ndf_new = df.rename(columns={'City': 'Location', 'Name': 'Alias'})\nprint('==============================')\nprint(df_new)",
      "metadata": {
        "trusted": true
      },
      "execution_count": 88,
      "outputs": [
        {
          "name": "stdout",
          "text": "     Name  Age        City\n0   Virat   55      Punjab\n1   Rohit   70      Mumbai\n2  Ramesh   45  Chandigarh\n==============================\n    Alias  Age    Location\n0   Virat   55      Punjab\n1   Rohit   70      Mumbai\n2  Ramesh   45  Chandigarh\n",
          "output_type": "stream"
        }
      ]
    },
    {
      "cell_type": "markdown",
      "source": "### Slicing data",
      "metadata": {}
    },
    {
      "cell_type": "code",
      "source": "# taking first two rows and column index 0\nprint(df)\nprint('==============================')\ndf.iloc[:2, 0]",
      "metadata": {
        "trusted": true
      },
      "execution_count": 94,
      "outputs": [
        {
          "name": "stdout",
          "text": "     Name  Age        City\n0   Virat   55      Punjab\n1   Rohit   70      Mumbai\n2  Ramesh   45  Chandigarh\n==============================\n",
          "output_type": "stream"
        },
        {
          "execution_count": 94,
          "output_type": "execute_result",
          "data": {
            "text/plain": "0    Virat\n1    Rohit\nName: Name, dtype: object"
          },
          "metadata": {}
        }
      ]
    },
    {
      "cell_type": "code",
      "source": "# taking first row and column index 2\nprint(df)\nprint('==============================')\nprint(df.iloc[1, 2])",
      "metadata": {
        "trusted": true
      },
      "execution_count": 93,
      "outputs": [
        {
          "name": "stdout",
          "text": "     Name  Age        City\n0   Virat   55      Punjab\n1   Rohit   70      Mumbai\n2  Ramesh   45  Chandigarh\n==============================\nMumbai\n",
          "output_type": "stream"
        }
      ]
    },
    {
      "cell_type": "code",
      "source": "# taking first row and column named Age\nprint(df)\nprint('==============================')\nprint(df.loc[1, 'Age'])",
      "metadata": {
        "trusted": true
      },
      "execution_count": 96,
      "outputs": [
        {
          "name": "stdout",
          "text": "     Name  Age        City\n0   Virat   55      Punjab\n1   Rohit   70      Mumbai\n2  Ramesh   45  Chandigarh\n==============================\n70\n",
          "output_type": "stream"
        }
      ]
    },
    {
      "cell_type": "code",
      "source": "",
      "metadata": {},
      "execution_count": null,
      "outputs": []
    }
  ]
}